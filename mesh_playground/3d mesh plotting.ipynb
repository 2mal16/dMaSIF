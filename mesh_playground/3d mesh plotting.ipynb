{
 "cells": [
  {
   "cell_type": "code",
   "execution_count": 1,
   "metadata": {},
   "outputs": [],
   "source": [
    "import numpy as np\n",
    "import pyvista as pv"
   ]
  },
  {
   "cell_type": "markdown",
   "metadata": {},
   "source": [
    "Plot random points using a gaussian distribution"
   ]
  },
  {
   "cell_type": "code",
   "execution_count": 2,
   "metadata": {},
   "outputs": [],
   "source": [
    "points = np.random.normal(size = (200,3))\n",
    "points_ply_object = pv.PolyData(points)"
   ]
  },
  {
   "cell_type": "code",
   "execution_count": 4,
   "metadata": {},
   "outputs": [
    {
     "data": {
      "application/vnd.jupyter.widget-view+json": {
       "model_id": "77e3567a93a849ce86e91c2852785d3c",
       "version_major": 2,
       "version_minor": 0
      },
      "text/plain": [
       "ViewInteractiveWidget(height=768, layout=Layout(height='auto', width='100%'), width=1024)"
      ]
     },
     "metadata": {},
     "output_type": "display_data"
    }
   ],
   "source": [
    "points_ply_object.plot(point_size = 2)"
   ]
  },
  {
   "cell_type": "markdown",
   "metadata": {},
   "source": [
    "Plot a random mesh"
   ]
  },
  {
   "cell_type": "code",
   "execution_count": 6,
   "metadata": {},
   "outputs": [
    {
     "data": {
      "application/vnd.jupyter.widget-view+json": {
       "model_id": "e632d0cec9c04f14802b47919c720290",
       "version_major": 2,
       "version_minor": 0
      },
      "text/plain": [
       "ViewInteractiveWidget(height=768, layout=Layout(height='auto', width='100%'), width=1024)"
      ]
     },
     "metadata": {},
     "output_type": "display_data"
    }
   ],
   "source": [
    "from pyvista import examples\n",
    "\n",
    "mesh = examples.load_hexbeam()\n",
    "\n",
    "mesh.plot()"
   ]
  },
  {
   "cell_type": "markdown",
   "metadata": {},
   "source": [
    "Plot a protein outter shell"
   ]
  },
  {
   "cell_type": "code",
   "execution_count": 7,
   "metadata": {},
   "outputs": [
    {
     "data": {
      "text/html": [
       "<table><tr><th>Header</th><th>Data Arrays</th></tr><tr><td>\n",
       "<table>\n",
       "<tr><th>UnstructuredGrid</th><th>Information</th></tr>\n",
       "<tr><td>N Cells</td><td>40</td></tr>\n",
       "<tr><td>N Points</td><td>99</td></tr>\n",
       "<tr><td>X Bounds</td><td>0.000e+00, 1.000e+00</td></tr>\n",
       "<tr><td>Y Bounds</td><td>0.000e+00, 1.000e+00</td></tr>\n",
       "<tr><td>Z Bounds</td><td>0.000e+00, 5.000e+00</td></tr>\n",
       "<tr><td>N Arrays</td><td>3</td></tr>\n",
       "</table>\n",
       "\n",
       "</td><td>\n",
       "<table>\n",
       "<tr><th>Name</th><th>Field</th><th>Type</th><th>N Comp</th><th>Min</th><th>Max</th></tr>\n",
       "<tr><td>sample_point_scalars</td><td>Points</td><td>int64</td><td>1</td><td>1.000e+00</td><td>3.020e+02</td></tr>\n",
       "<tr><td>VTKorigID</td><td>Points</td><td>int64</td><td>1</td><td>0.000e+00</td><td>9.800e+01</td></tr>\n",
       "<tr><td><b>sample_cell_scalars</b></td><td>Cells</td><td>int32</td><td>1</td><td>1.000e+00</td><td>4.000e+01</td></tr>\n",
       "</table>\n",
       "\n",
       "</td></tr> </table>"
      ],
      "text/plain": [
       "UnstructuredGrid (0x7f39d446e8e8)\n",
       "  N Cells:\t40\n",
       "  N Points:\t99\n",
       "  X Bounds:\t0.000e+00, 1.000e+00\n",
       "  Y Bounds:\t0.000e+00, 1.000e+00\n",
       "  Z Bounds:\t0.000e+00, 5.000e+00\n",
       "  N Arrays:\t3"
      ]
     },
     "execution_count": 7,
     "metadata": {},
     "output_type": "execute_result"
    }
   ],
   "source": [
    "mesh"
   ]
  },
  {
   "cell_type": "code",
   "execution_count": 8,
   "metadata": {},
   "outputs": [
    {
     "data": {
      "text/plain": [
       "array([ 8,  0,  2,  8,  7, 27, 36, 90, 81,  8,  2,  1,  4,  8, 36, 18, 54,\n",
       "       90,  8,  7,  8,  6,  5, 81, 90, 72, 63,  8,  8,  4,  3,  6, 90, 54,\n",
       "       45, 72,  8, 27, 36, 90, 81, 28, 37, 91, 82,  8, 36, 18, 54, 90, 37,\n",
       "       19, 55, 91,  8, 81, 90, 72, 63, 82, 91, 73, 64,  8, 90, 54, 45, 72,\n",
       "       91, 55, 46, 73,  8, 28, 37, 91, 82, 29, 38, 92, 83,  8, 37, 19, 55,\n",
       "       91, 38, 20, 56, 92,  8, 82, 91, 73, 64, 83, 92, 74, 65,  8, 91, 55,\n",
       "       46, 73, 92, 56, 47, 74,  8, 29, 38, 92, 83, 30, 39, 93, 84,  8, 38,\n",
       "       20, 56, 92, 39, 21, 57, 93,  8, 83, 92, 74, 65, 84, 93, 75, 66,  8,\n",
       "       92, 56, 47, 74, 93, 57, 48, 75,  8, 30, 39, 93, 84, 31, 40, 94, 85,\n",
       "        8, 39, 21, 57, 93, 40, 22, 58, 94,  8, 84, 93, 75, 66, 85, 94, 76,\n",
       "       67,  8, 93, 57, 48, 75, 94, 58, 49, 76,  8, 31, 40, 94, 85, 32, 41,\n",
       "       95, 86,  8, 40, 22, 58, 94, 41, 23, 59, 95,  8, 85, 94, 76, 67, 86,\n",
       "       95, 77, 68,  8, 94, 58, 49, 76, 95, 59, 50, 77,  8, 32, 41, 95, 86,\n",
       "       33, 42, 96, 87,  8, 41, 23, 59, 95, 42, 24, 60, 96,  8, 86, 95, 77,\n",
       "       68, 87, 96, 78, 69,  8, 95, 59, 50, 77, 96, 60, 51, 78,  8, 33, 42,\n",
       "       96, 87, 34, 43, 97, 88,  8, 42, 24, 60, 96, 43, 25, 61, 97,  8, 87,\n",
       "       96, 78, 69, 88, 97, 79, 70,  8, 96, 60, 51, 78, 97, 61, 52, 79,  8,\n",
       "       34, 43, 97, 88, 35, 44, 98, 89,  8, 43, 25, 61, 97, 44, 26, 62, 98,\n",
       "        8, 88, 97, 79, 70, 89, 98, 80, 71,  8, 97, 61, 52, 79, 98, 62, 53,\n",
       "       80,  8, 35, 44, 98, 89,  9, 11, 17, 16,  8, 44, 26, 62, 98, 11, 10,\n",
       "       13, 17,  8, 89, 98, 80, 71, 16, 17, 15, 14,  8, 98, 62, 53, 80, 17,\n",
       "       13, 12, 15])"
      ]
     },
     "execution_count": 8,
     "metadata": {},
     "output_type": "execute_result"
    }
   ],
   "source": [
    "mesh.cells"
   ]
  },
  {
   "cell_type": "code",
   "execution_count": null,
   "metadata": {},
   "outputs": [],
   "source": []
  }
 ],
 "metadata": {
  "kernelspec": {
   "display_name": "Python 3",
   "language": "python",
   "name": "python3"
  },
  "language_info": {
   "codemirror_mode": {
    "name": "ipython",
    "version": 3
   },
   "file_extension": ".py",
   "mimetype": "text/x-python",
   "name": "python",
   "nbconvert_exporter": "python",
   "pygments_lexer": "ipython3",
   "version": "3.7.3"
  }
 },
 "nbformat": 4,
 "nbformat_minor": 4
}
