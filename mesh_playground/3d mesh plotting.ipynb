{
 "cells": [
  {
   "cell_type": "code",
   "execution_count": 1,
   "metadata": {},
   "outputs": [
    {
     "name": "stdout",
     "output_type": "stream",
     "text": [
      "Python 3.8.10\r\n"
     ]
    }
   ],
   "source": [
    "!python --version"
   ]
  },
  {
   "cell_type": "code",
   "execution_count": 2,
   "metadata": {
    "scrolled": true
   },
   "outputs": [
    {
     "name": "stdout",
     "output_type": "stream",
     "text": [
      "Requirement already satisfied: pyvista in /home/geoten/codes/dmasif_vis/lib/python3.8/site-packages (0.32.1)\n",
      "Requirement already satisfied: imageio in /home/geoten/codes/dmasif_vis/lib/python3.8/site-packages (from pyvista) (2.9.0)\n",
      "Requirement already satisfied: scooby>=0.5.1 in /home/geoten/codes/dmasif_vis/lib/python3.8/site-packages (from pyvista) (0.5.7)\n",
      "Requirement already satisfied: meshio<5.0,>=4.0.3 in /home/geoten/codes/dmasif_vis/lib/python3.8/site-packages (from pyvista) (4.4.6)\n",
      "Requirement already satisfied: pillow in /home/geoten/codes/dmasif_vis/lib/python3.8/site-packages (from pyvista) (8.4.0)\n",
      "Requirement already satisfied: typing-extensions in /home/geoten/codes/dmasif_vis/lib/python3.8/site-packages (from pyvista) (3.10.0.2)\n",
      "Requirement already satisfied: numpy in /home/geoten/codes/dmasif_vis/lib/python3.8/site-packages (from pyvista) (1.21.3)\n",
      "Requirement already satisfied: vtk in /home/geoten/codes/dmasif_vis/lib/python3.8/site-packages (from pyvista) (9.0.3)\n",
      "Requirement already satisfied: appdirs in /home/geoten/codes/dmasif_vis/lib/python3.8/site-packages (from pyvista) (1.4.4)\n",
      "Requirement already satisfied: autobahn>=17.7.1 in /home/geoten/codes/dmasif_vis/lib/python3.8/site-packages (from vtk->pyvista) (21.3.1)\n",
      "Requirement already satisfied: wslink>=0.1.3 in /home/geoten/codes/dmasif_vis/lib/python3.8/site-packages (from vtk->pyvista) (1.1.0)\n",
      "Requirement already satisfied: Twisted>=17.5.0 in /home/geoten/codes/dmasif_vis/lib/python3.8/site-packages (from vtk->pyvista) (21.7.0)\n",
      "Requirement already satisfied: matplotlib>=2.0.0 in /home/geoten/codes/dmasif_vis/lib/python3.8/site-packages (from vtk->pyvista) (3.4.3)\n",
      "Requirement already satisfied: hyperlink>=21.0.0 in /home/geoten/codes/dmasif_vis/lib/python3.8/site-packages (from autobahn>=17.7.1->vtk->pyvista) (21.0.0)\n",
      "Requirement already satisfied: cryptography>=3.4.6 in /home/geoten/codes/dmasif_vis/lib/python3.8/site-packages (from autobahn>=17.7.1->vtk->pyvista) (35.0.0)\n",
      "Requirement already satisfied: txaio>=21.2.1 in /home/geoten/codes/dmasif_vis/lib/python3.8/site-packages (from autobahn>=17.7.1->vtk->pyvista) (21.2.1)\n",
      "Requirement already satisfied: kiwisolver>=1.0.1 in /home/geoten/codes/dmasif_vis/lib/python3.8/site-packages (from matplotlib>=2.0.0->vtk->pyvista) (1.3.2)\n",
      "Requirement already satisfied: pyparsing>=2.2.1 in /home/geoten/codes/dmasif_vis/lib/python3.8/site-packages (from matplotlib>=2.0.0->vtk->pyvista) (2.4.7)\n",
      "Requirement already satisfied: python-dateutil>=2.7 in /home/geoten/codes/dmasif_vis/lib/python3.8/site-packages (from matplotlib>=2.0.0->vtk->pyvista) (2.8.2)\n",
      "Requirement already satisfied: cycler>=0.10 in /home/geoten/codes/dmasif_vis/lib/python3.8/site-packages (from matplotlib>=2.0.0->vtk->pyvista) (0.10.0)\n",
      "Requirement already satisfied: attrs>=19.2.0 in /home/geoten/codes/dmasif_vis/lib/python3.8/site-packages (from Twisted>=17.5.0->vtk->pyvista) (21.2.0)\n",
      "Requirement already satisfied: incremental>=21.3.0 in /home/geoten/codes/dmasif_vis/lib/python3.8/site-packages (from Twisted>=17.5.0->vtk->pyvista) (21.3.0)\n",
      "Requirement already satisfied: Automat>=0.8.0 in /home/geoten/codes/dmasif_vis/lib/python3.8/site-packages (from Twisted>=17.5.0->vtk->pyvista) (20.2.0)\n",
      "Requirement already satisfied: zope.interface>=4.4.2 in /home/geoten/codes/dmasif_vis/lib/python3.8/site-packages (from Twisted>=17.5.0->vtk->pyvista) (5.4.0)\n",
      "Requirement already satisfied: constantly>=15.1 in /home/geoten/codes/dmasif_vis/lib/python3.8/site-packages (from Twisted>=17.5.0->vtk->pyvista) (15.1.0)\n",
      "Requirement already satisfied: aiohttp in /home/geoten/codes/dmasif_vis/lib/python3.8/site-packages (from wslink>=0.1.3->vtk->pyvista) (3.7.4.post0)\n",
      "Requirement already satisfied: six in /home/geoten/codes/dmasif_vis/lib/python3.8/site-packages (from Automat>=0.8.0->Twisted>=17.5.0->vtk->pyvista) (1.16.0)\n",
      "Requirement already satisfied: cffi>=1.12 in /home/geoten/codes/dmasif_vis/lib/python3.8/site-packages (from cryptography>=3.4.6->autobahn>=17.7.1->vtk->pyvista) (1.15.0)\n",
      "Requirement already satisfied: idna>=2.5 in /home/geoten/codes/dmasif_vis/lib/python3.8/site-packages (from hyperlink>=21.0.0->autobahn>=17.7.1->vtk->pyvista) (3.3)\n",
      "Requirement already satisfied: setuptools in /home/geoten/codes/dmasif_vis/lib/python3.8/site-packages (from zope.interface>=4.4.2->Twisted>=17.5.0->vtk->pyvista) (44.0.0)\n",
      "Requirement already satisfied: async-timeout<4.0,>=3.0 in /home/geoten/codes/dmasif_vis/lib/python3.8/site-packages (from aiohttp->wslink>=0.1.3->vtk->pyvista) (3.0.1)\n",
      "Requirement already satisfied: multidict<7.0,>=4.5 in /home/geoten/codes/dmasif_vis/lib/python3.8/site-packages (from aiohttp->wslink>=0.1.3->vtk->pyvista) (5.2.0)\n",
      "Requirement already satisfied: chardet<5.0,>=2.0 in /home/geoten/codes/dmasif_vis/lib/python3.8/site-packages (from aiohttp->wslink>=0.1.3->vtk->pyvista) (4.0.0)\n",
      "Requirement already satisfied: yarl<2.0,>=1.0 in /home/geoten/codes/dmasif_vis/lib/python3.8/site-packages (from aiohttp->wslink>=0.1.3->vtk->pyvista) (1.7.0)\n",
      "Requirement already satisfied: pycparser in /home/geoten/codes/dmasif_vis/lib/python3.8/site-packages (from cffi>=1.12->cryptography>=3.4.6->autobahn>=17.7.1->vtk->pyvista) (2.20)\n",
      "Reading package lists... Done\n",
      "E: Could not open lock file /var/lib/apt/lists/lock - open (13: Permission denied)\n",
      "E: Unable to lock directory /var/lib/apt/lists/\n",
      "W: Problem unlinking the file /var/cache/apt/pkgcache.bin - RemoveCaches (13: Permission denied)\n",
      "W: Problem unlinking the file /var/cache/apt/srcpkgcache.bin - RemoveCaches (13: Permission denied)\n",
      "E: Could not open lock file /var/lib/dpkg/lock-frontend - open (13: Permission denied)\n",
      "E: Unable to acquire the dpkg frontend lock (/var/lib/dpkg/lock-frontend), are you root?\n"
     ]
    }
   ],
   "source": [
    "!pip install pyvista\n",
    "!apt-get update ##[edited]\n",
    "!apt-get install ffmpeg libsm6 libxext6  -y"
   ]
  },
  {
   "cell_type": "code",
   "execution_count": 4,
   "metadata": {},
   "outputs": [],
   "source": [
    "import numpy as np\n",
    "import pyvista as pv\n",
    "from plyfile import PlyData"
   ]
  },
  {
   "cell_type": "markdown",
   "metadata": {},
   "source": [
    "Plot random points using a gaussian distribution"
   ]
  },
  {
   "cell_type": "code",
   "execution_count": 5,
   "metadata": {},
   "outputs": [],
   "source": [
    "\n",
    "points = np.random.normal(size = (200,3))\n",
    "points_ply_object = pv.PolyData(points)"
   ]
  },
  {
   "cell_type": "code",
   "execution_count": 6,
   "metadata": {
    "collapsed": true
   },
   "outputs": [
    {
     "data": {
      "application/vnd.jupyter.widget-view+json": {
       "model_id": "6071fadb24484065acfa86baa053d244",
       "version_major": 2,
       "version_minor": 0
      },
      "text/plain": [
       "ViewInteractiveWidget(height=768, layout=Layout(height='auto', width='100%'), width=1024)"
      ]
     },
     "metadata": {},
     "output_type": "display_data"
    }
   ],
   "source": [
    "points_ply_object.plot(point_size = 5)"
   ]
  },
  {
   "cell_type": "markdown",
   "metadata": {},
   "source": [
    "Plot a random mesh"
   ]
  },
  {
   "cell_type": "code",
   "execution_count": 7,
   "metadata": {},
   "outputs": [
    {
     "data": {
      "application/vnd.jupyter.widget-view+json": {
       "model_id": "70e74e7dc50b43168edcd838c49c7cfe",
       "version_major": 2,
       "version_minor": 0
      },
      "text/plain": [
       "ViewInteractiveWidget(height=768, layout=Layout(height='auto', width='100%'), width=1024)"
      ]
     },
     "metadata": {},
     "output_type": "display_data"
    }
   ],
   "source": [
    "from pyvista import examples\n",
    "\n",
    "mesh = examples.load_hexbeam()\n",
    "\n",
    "mesh.plot()"
   ]
  },
  {
   "cell_type": "markdown",
   "metadata": {},
   "source": [
    "Plot a protein outter shell"
   ]
  },
  {
   "cell_type": "code",
   "execution_count": 13,
   "metadata": {},
   "outputs": [
    {
     "data": {
      "application/vnd.jupyter.widget-view+json": {
       "model_id": "576ad5f09c3542b5a570ae206ac53c9d",
       "version_major": 2,
       "version_minor": 0
      },
      "text/plain": [
       "ViewInteractiveWidget(height=768, layout=Layout(height='auto', width='100%'), width=1024)"
      ]
     },
     "metadata": {},
     "output_type": "display_data"
    }
   ],
   "source": [
    "# Initial protein plotting\n",
    "filename = \"./1A0G_A.ply\"\n",
    "\n",
    "plydata = pv.read(filename)\n",
    "\n",
    "plydata.plot()"
   ]
  },
  {
   "cell_type": "code",
   "execution_count": 17,
   "metadata": {},
   "outputs": [
    {
     "data": {
      "application/vnd.jupyter.widget-view+json": {
       "model_id": "22e396fe0271431fa800228ed32f05c6",
       "version_major": 2,
       "version_minor": 0
      },
      "text/plain": [
       "ViewInteractiveWidget(height=768, layout=Layout(height='auto', width='100%'), width=1024)"
      ]
     },
     "metadata": {},
     "output_type": "display_data"
    }
   ],
   "source": [
    "protein_with_values = \"../preds/dMaSIF_site_3layer_9A_epoch48/1A99_C_pred_emb1.vtk\"\n",
    "\n",
    "plydata = pv.read(protein_with_values)\n",
    "\n",
    "plydata.plot()"
   ]
  },
  {
   "cell_type": "markdown",
   "metadata": {},
   "source": [
    "See the following for info about pyvista's PolyData Methods\n",
    "\n",
    "https://docs.pyvista.org/api/core/_autosummary/pyvista.DataSet.html#pyvista.DataSet"
   ]
  },
  {
   "cell_type": "code",
   "execution_count": 43,
   "metadata": {},
   "outputs": [],
   "source": [
    "x = plydata.extract_geometry()"
   ]
  },
  {
   "cell_type": "code",
   "execution_count": 46,
   "metadata": {},
   "outputs": [],
   "source": [
    "plydata.set_active_scalars(\"features_25\")"
   ]
  },
  {
   "cell_type": "code",
   "execution_count": 47,
   "metadata": {},
   "outputs": [
    {
     "data": {
      "application/vnd.jupyter.widget-view+json": {
       "model_id": "19108a6768df41339375006c211ddd25",
       "version_major": 2,
       "version_minor": 0
      },
      "text/plain": [
       "ViewInteractiveWidget(height=768, layout=Layout(height='auto', width='100%'), width=1024)"
      ]
     },
     "metadata": {},
     "output_type": "display_data"
    }
   ],
   "source": [
    "plydata.plot()"
   ]
  }
 ],
 "metadata": {
  "kernelspec": {
   "display_name": "Python 3.8 dmasif",
   "language": "python",
   "name": "dmasif_vis"
  },
  "language_info": {
   "codemirror_mode": {
    "name": "ipython",
    "version": 3
   },
   "file_extension": ".py",
   "mimetype": "text/x-python",
   "name": "python",
   "nbconvert_exporter": "python",
   "pygments_lexer": "ipython3",
   "version": "3.8.10"
  }
 },
 "nbformat": 4,
 "nbformat_minor": 4
}
